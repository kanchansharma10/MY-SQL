{
 "cells": [
  {
   "cell_type": "code",
   "execution_count": null,
   "id": "e3d06d1b",
   "metadata": {},
   "outputs": [
    {
     "name": "stdout",
     "output_type": "stream",
     "text": [
      "Random Dog Image URL:\n",
      " https://images.dog.ceo/breeds/mexicanhairless/n02113978_3727.jpg\n"
     ]
    },
    {
     "data": {
      "text/html": [
       "<img src=\"https://images.dog.ceo/breeds/mexicanhairless/n02113978_3727.jpg\" width=\"500\" height=\"500\"/>"
      ],
      "text/plain": [
       "<IPython.core.display.Image object>"
      ]
     },
     "metadata": {},
     "output_type": "display_data"
    }
   ],
   "source": [
    "import requests\n",
    "import time\n",
    "from IPython.display import display, clear_output, Image\n",
    "\n",
    "# API endpoint\n",
    "url = \"https://dog.ceo/api/breeds/image/random\"\n",
    "\n",
    "while True:\n",
    "    response = requests.get(url)\n",
    "    \n",
    "    if response.status_code == 200:\n",
    "        data = response.json()\n",
    "        dog_img = data['message']\n",
    "        clear_output(wait=True)  # Clear previous output\n",
    "        print(\"Random Dog Image URL:\\n\", dog_img)\n",
    "        display(Image(url=dog_img, width=500, height=500))\n",
    "        \n",
    "    else:\n",
    "        print(\"Failed to retrieve data. Status code:\", response.status_code)\n",
    "    \n",
    "    time.sleep(5)"
   ]
  },
  {
   "cell_type": "code",
   "execution_count": 1,
   "id": "f7ee5785",
   "metadata": {},
   "outputs": [],
   "source": [
    "import requests\n",
    "import time\n",
    "from IPython.display import display, clear_output, Image\n"
   ]
  },
  {
   "cell_type": "code",
   "execution_count": 2,
   "id": "df912829",
   "metadata": {},
   "outputs": [],
   "source": [
    "url = \"https://dog.ceo/api/breeds/image/random\""
   ]
  },
  {
   "cell_type": "code",
   "execution_count": 3,
   "id": "e4f7e0ef",
   "metadata": {},
   "outputs": [
    {
     "name": "stdout",
     "output_type": "stream",
     "text": [
      "<Response [200]>\n"
     ]
    }
   ],
   "source": [
    "response = requests.get(url)\n",
    "print(response)\n"
   ]
  },
  {
   "cell_type": "code",
   "execution_count": 11,
   "id": "615b80bf",
   "metadata": {},
   "outputs": [
    {
     "name": "stdout",
     "output_type": "stream",
     "text": [
      "Random Dog Image URL:\n",
      " https://images.dog.ceo/breeds/saluki/n02091831_13354.jpg\n"
     ]
    },
    {
     "data": {
      "text/html": [
       "<img src=\"https://images.dog.ceo/breeds/saluki/n02091831_13354.jpg\" width=\"500\" height=\"500\"/>"
      ],
      "text/plain": [
       "<IPython.core.display.Image object>"
      ]
     },
     "metadata": {},
     "output_type": "display_data"
    }
   ],
   "source": [
    "if response.status_code == 200:\n",
    "    data = response.json()\n",
    "    dog_img = data[\"message\"]\n",
    "    clear_output(wait=True)\n",
    "    print(\"Random Dog Image URL:\\n\", dog_img)\n",
    "    display(Image(url=dog_img, width=500, height=500))\n",
    "   \n",
    "else:\n",
    "    print(\"Failed to retrieve data. Status code:\", response.status_code)\n",
    "    \n",
    "time.sleep(2)\n",
    "    \n",
    "\n",
    "    \n"
   ]
  },
  {
   "cell_type": "code",
   "execution_count": null,
   "id": "fbb234c1",
   "metadata": {},
   "outputs": [],
   "source": []
  }
 ],
 "metadata": {
  "kernelspec": {
   "display_name": "base",
   "language": "python",
   "name": "python3"
  },
  "language_info": {
   "codemirror_mode": {
    "name": "ipython",
    "version": 3
   },
   "file_extension": ".py",
   "mimetype": "text/x-python",
   "name": "python",
   "nbconvert_exporter": "python",
   "pygments_lexer": "ipython3",
   "version": "3.12.4"
  }
 },
 "nbformat": 4,
 "nbformat_minor": 5
}
