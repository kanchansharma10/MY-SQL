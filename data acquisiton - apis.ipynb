{
 "cells": [
  {
   "cell_type": "markdown",
   "id": "d7fca133",
   "metadata": {},
   "source": [
    "Application------APIs--------Software\n",
    "\n",
    "\n",
    "APIs: Software Apps - Store Protocols/Rules implement <br>\n",
    "    Retrieve data:  =    getting data<br>\n",
    "    Sending data:   =    to send data, give data<br>\n",
    "\n",
    "\n",
    "couple of things with APIs:<br>\n",
    "    - systems to communicate and share data<br>\n",
    "    - apis, to automate the process of getting data and integration into analysis<br>\n",
    "    - APIs over internet - HTTPs (protocols) send/receives<br>\n",
    "\n",
    "ANALOGY - similar situation<br>\n",
    "\n",
    "You - Software makes request <br>\n",
    "waiter - API<br>\n",
    "food - data<br>\n",
    "\n",
    "Use API OpenWeatherMap:\n",
    "\n",
    "1. we send request (Fetch)\n",
    "2. API communicates with the weather db\n",
    "3. API give us data as JSON format\n",
    "JSON data into => DataFrame?"
   ]
  },
  {
   "cell_type": "code",
   "execution_count": 3,
   "id": "8d1a7cd1",
   "metadata": {},
   "outputs": [
    {
     "name": "stdout",
     "output_type": "stream",
     "text": [
      "Random Dog Image URL below:\n",
      "\n",
      " https://images.dog.ceo/breeds/pomeranian/n02112018_5540.jpg\n"
     ]
    },
    {
     "data": {
      "text/html": [
       "<img src=\"https://images.dog.ceo/breeds/pomeranian/n02112018_5540.jpg\" width=\"500\" height=\"500\">"
      ],
      "text/plain": [
       "<IPython.core.display.HTML object>"
      ]
     },
     "execution_count": 3,
     "metadata": {},
     "output_type": "execute_result"
    }
   ],
   "source": [
    "#!pip install requests\n",
    "\n",
    "import requests\n",
    "\n",
    "# API endpoint\n",
    "url = \"https://dog.ceo/api/breeds/image/random\"\n",
    "\n",
    "# GET request to fetch a random dog image\n",
    "response = requests.get(url)\n",
    "response.status_code  # Check if the request was successful\n",
    "\n",
    "if response.status_code == 200:\n",
    "\n",
    "    data = response.json()\n",
    "    \n",
    "    # Extract the image URL from the response\n",
    "    dog_img = data['message']\n",
    "\n",
    "    print(\"Random Dog Image URL below:\\n\\n\",dog_img)\n",
    "\n",
    "else:\n",
    "    print(\"Failed to retrieve data. Status code:\", response.status_code)\n",
    "\n",
    "\n",
    "# URL, print the actual image of the URL here\n",
    "from IPython.display import HTML\n",
    "\n",
    "HTML(f'<img src=\"{dog_img}\" width=\"500\" height=\"500\">')"
   ]
  },
  {
   "cell_type": "code",
   "execution_count": null,
   "id": "a4fa5d95",
   "metadata": {},
   "outputs": [],
   "source": []
  }
 ],
 "metadata": {
  "kernelspec": {
   "display_name": "base",
   "language": "python",
   "name": "python3"
  },
  "language_info": {
   "codemirror_mode": {
    "name": "ipython",
    "version": 3
   },
   "file_extension": ".py",
   "mimetype": "text/x-python",
   "name": "python",
   "nbconvert_exporter": "python",
   "pygments_lexer": "ipython3",
   "version": "3.12.4"
  }
 },
 "nbformat": 4,
 "nbformat_minor": 5
}
