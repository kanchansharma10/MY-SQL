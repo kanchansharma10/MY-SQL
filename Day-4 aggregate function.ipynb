{
 "cells": [
  {
   "cell_type": "markdown",
   "id": "2bc3f0b1",
   "metadata": {},
   "source": [
    "<div style=\"background-color: #add8e6; padding: 10px; height: 70px; border-radius: 15px;\">\n",
    "    <div style=\"font-family: 'Georgia', serif; font-size: 20px; padding: 10px; text-align: right; position: absolute; right: 20px;\">\n",
    "        Kanchan Sharma<br>\n",
    "        <span style=\"font-family: 'Arial', sans-serif;font-size: 12px; color: #0a0a0a;\">Tech Skills Trainee | AI/ML Bootcamp</span> <!--- Devashish Kumar | CodroidHub Private Limited | AI/ML Consultant --->\n",
    "    </div>\n",
    "</div>"
   ]
  },
  {
   "cell_type": "markdown",
   "id": "dfbe2e68",
   "metadata": {},
   "source": [
    "\n",
    "<div style=\"background-color: #002147; padding: 10px; text-align: center; color: white; font-size: 32px; font-family: 'Arial', sans-serif;\">\n",
    "    Aggregate function in  My-sql <br>\n",
    "    <h3 style=\"text-align: center; color: white; font-size: 15px; font-family: 'Arial', sans-serif;\"></h3>\n",
    "</div>"
   ]
  },
  {
   "cell_type": "markdown",
   "id": "77af75cb",
   "metadata": {},
   "source": [
    "An **aggregate function** in SQL is a function that performs a calculation on a set of values and returns a single value. These are commonly used with the `GROUP BY` clause but can also be used on entire result sets.\n",
    "\n",
    "### Common Aggregate Functions in SQL:\n",
    "\n",
    "| Function  | Description                          |\n",
    "| --------- | ------------------------------------ |\n",
    "| `COUNT()` | Counts the number of rows            |\n",
    "| `SUM()`   | Adds up all the values in a column   |\n",
    "| `AVG()`   | Calculates the average of the values |\n",
    "| `MIN()`   | Finds the smallest value             |\n",
    "| `MAX()`   | Finds the largest value              |\n",
    "\n",
    "---\n",
    "\n",
    "### Examples:\n",
    "\n",
    "#### 1. `COUNT()`\n",
    "\n",
    "```sql\n",
    "SELECT COUNT(*) FROM employees;\n",
    "```\n",
    "\n",
    "*Counts all employees.*\n",
    "\n",
    "#### 2. `SUM()`\n",
    "\n",
    "```sql\n",
    "SELECT SUM(salary) FROM employees;\n",
    "```\n",
    "\n",
    "*Calculates the total salary of all employees.*\n",
    "\n",
    "#### 3. `AVG()`\n",
    "\n",
    "```sql\n",
    "SELECT AVG(salary) FROM employees;\n",
    "```\n",
    "\n",
    "*Calculates the average salary.*\n",
    "\n",
    "#### 4. `MIN()` and `MAX()`\n",
    "\n",
    "```sql\n",
    "SELECT MIN(salary), MAX(salary) FROM employees;\n",
    "```\n",
    "\n",
    "*Finds the lowest and highest salary.*\n",
    "\n",
    "---\n",
    "\n",
    "### With `GROUP BY`:\n",
    "\n",
    "```sql\n",
    "SELECT department_id, AVG(salary)\n",
    "FROM employees\n",
    "GROUP BY department_id;\n",
    "```\n",
    "\n",
    "*Gets the average salary per department.*\n",
    "\n",
    "---\n",
    "\n",
    "### With `HAVING` (used to filter aggregate results):\n",
    "\n",
    "```sql\n",
    "SELECT department_id, COUNT(*) as employee_count\n",
    "FROM employees\n",
    "GROUP BY department_id\n",
    "HAVING COUNT(*) > 10;\n",
    "```\n",
    "\n",
    "*Finds departments with more than 10 employees.*\n",
    "\n",
    "---\n"
   ]
  },
  {
   "cell_type": "markdown",
   "id": "419d2fc6",
   "metadata": {},
   "source": [
    "<div style=\"background-color: lightblue; color: white; padding: 10px; text-align: center;\">\n",
    "    <h1>_________________________________END________________________________\n",
    "<!--- Devashish Kumar | Tech Skills Trainer | CodroidHub Private Limited | AI/ML Consultant --->\n",
    "    </h1> </div>"
   ]
  },
  {
   "cell_type": "markdown",
   "id": "87c488f5",
   "metadata": {},
   "source": [
    "<div style=\"background-color: #002147; color: #fff; padding: 30px; text-align: center;\">\n",
    "    <h1>THANK YOU!\n",
    "        <!--- Devashish Kumar | Tech Skills Trainer | CodroidHub Private Limited | AI/ML Consultant --->\n",
    "</h1> </div>"
   ]
  },
  {
   "cell_type": "markdown",
   "id": "ff519c4f",
   "metadata": {},
   "source": []
  }
 ],
 "metadata": {
  "language_info": {
   "name": "python"
  }
 },
 "nbformat": 4,
 "nbformat_minor": 5
}
