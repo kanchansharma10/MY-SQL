{
 "cells": [
  {
   "cell_type": "markdown",
   "id": "0ade9a23",
   "metadata": {},
   "source": [
    "<div style=\"background-color: #add8e6; padding: 10px; height: 70px; border-radius: 15px;\">\n",
    "    <div style=\"font-family: 'Georgia', serif; font-size: 20px; padding: 10px; text-align: right; position: absolute; right: 20px;\">\n",
    "        Kanchan Sharma<br>\n",
    "        <span style=\"font-family: 'Arial', sans-serif;font-size: 12px; color: #0a0a0a;\">Tech Skills Trainee | AI/ML Bootcamp</span> <!--- Devashish Kumar | CodroidHub Private Limited | AI/ML Consultant --->\n",
    "    </div>\n",
    "</div>"
   ]
  },
  {
   "cell_type": "markdown",
   "id": "3e6450ac",
   "metadata": {},
   "source": [
    "<div style=\"background-color: #002147; padding: 10px; text-align: center; color: white; font-size: 32px; font-family: 'Arial', sans-serif;\">\n",
    "    Introduction to Database <br>\n",
    "    <h3 style=\"text-align: center; color: white; font-size: 15px; font-family: 'Arial', sans-serif;\"></h3>\n",
    "</div>"
   ]
  },
  {
   "cell_type": "markdown",
   "id": "3079fe36",
   "metadata": {},
   "source": [
    "<h1> INTRODUCTION</h1>"
   ]
  },
  {
   "cell_type": "markdown",
   "id": "b16152a1",
   "metadata": {},
   "source": [
    "\n",
    "A **database** is an organized collection of data stored electronically, typically in a computer system. Databases are designed to efficiently store, manage, and retrieve data. They are fundamental to various applications, from banking systems to social media platforms.\n",
    "\n",
    "###  What Is a Database?\n",
    "\n",
    "At its core, a database is a system that allows for the storage, modification, and retrieval of data. This data is often structured in tables, rows, and columns, making it easy to organize and access. A **Database Management System (DBMS)** is the software that facilitates these operations, ensuring data integrity, security, and efficient access. ([MongoDB][1])\n",
    "\n",
    "###  Types of Databases\n",
    "\n",
    "1. **Relational Databases (RDBMS):**\n",
    "\n",
    "   * Store data in tables with rows and columns.\n",
    "   * Use Structured Query Language (SQL) for data management.\n",
    "   * Examples: MySQL, PostgreSQL, Microsoft SQL Server. ([The Knowledge Academy][2])\n",
    "\n",
    "2. **NoSQL Databases:**\n",
    "\n",
    "   * Designed for unstructured or semi-structured data.\n",
    "   * Offer flexibility and scalability.\n",
    "   * Examples: MongoDB, Cassandra, CouchDB. ([The Knowledge Academy][2], [Lifewire][3])\n",
    "\n",
    "3. **Distributed Databases:**\n",
    "\n",
    "   * Data is stored across multiple physical locations.\n",
    "   * Ensures high availability and fault tolerance.\n",
    "   * Examples: Google Bigtable, Amazon DynamoDB. ([WIRED][4])\n",
    "\n",
    "4. **Data Warehouses:**\n",
    "\n",
    "   * Centralized repositories for large volumes of historical data.\n",
    "   * Used for analytical processing and business intelligence.\n",
    "   * Examples: Amazon Redshift, Snowflake.&#x20;\n",
    "\n",
    "5. **Object-Oriented Databases:**\n",
    "\n",
    "   * Store data as objects, similar to object-oriented programming.\n",
    "   * Suitable for applications requiring complex data representations.\n",
    "   * Examples: db4o, ObjectDB. ([The Knowledge Academy][2], [TechRadar][5])\n",
    "\n",
    "###  Key Components of a Database\n",
    "\n",
    "* **Tables:** Organize data into rows and columns.\n",
    "* **Records (Rows):** Individual entries in a table.\n",
    "* **Fields (Columns):** Attributes that define data types for records.\n",
    "* **Keys:** Unique identifiers (Primary Keys) and references to other tables (Foreign Keys).\n",
    "* **Indexes:** Enhance data retrieval speed.([Encyclopedia Britannica][6])\n",
    "\n",
    "###  Why Are Databases Important?\n",
    "\n",
    "* **Data Integrity:** Ensure accuracy and consistency of data.\n",
    "* **Security:** Control access and protect data from unauthorized users.\n",
    "* **Efficiency:** Allow quick retrieval and manipulation of data.\n",
    "* **Scalability:** Handle growing amounts of data effectively.\n",
    "* **Backup and Recovery:** Provide mechanisms to recover data in case of failures.([Lifewire][7])\n",
    "\n"
   ]
  },
  {
   "cell_type": "markdown",
   "id": "c77a0cd1",
   "metadata": {
    "vscode": {
     "languageId": "plaintext"
    }
   },
   "source": [
    "<div style=\"background-color: #002147; padding: 10px; text-align: center; color: white; font-size: 32px; font-family: 'Arial', sans-serif;\">\n",
    "    Introduction to My-sql <br>\n",
    "    <h3 style=\"text-align: center; color: white; font-size: 15px; font-family: 'Arial', sans-serif;\"></h3>\n",
    "</div>"
   ]
  },
  {
   "cell_type": "markdown",
   "id": "ea64447f",
   "metadata": {},
   "source": [
    "<h1> INTRODUCTION</h1>"
   ]
  },
  {
   "cell_type": "markdown",
   "id": "675234ae",
   "metadata": {},
   "source": [
    "\n",
    "**MySQL** is a widely used, open-source relational database management system (RDBMS) that utilizes Structured Query Language (SQL) for managing and manipulating data. It is renowned for its speed, reliability, and ease of use, making it a popular choice for web applications and services.\n",
    "\n",
    "\n",
    "\n",
    "###  What Is MySQL?\n",
    "\n",
    "MySQL was developed in 1995 by the Swedish company MySQL AB and was later acquired by Sun Microsystems in 2008, which was subsequently acquired by Oracle Corporation in 2010 . The name \"MySQL\" is derived from the co-founder Michael \"My\" Widenius's daughter, My.([Informa TechTarget][1], [Amazon Web Services, Inc.][2])\n",
    "\n",
    "As an open-source RDBMS, MySQL is released under the GNU General Public License (GPL), allowing users to freely use, modify, and distribute the software .([Amazon Web Services, Inc.][2])\n",
    "\n",
    "\n",
    "###  Key Features of MySQL\n",
    "\n",
    "* **High Performance**: MySQL is optimized for fast read and write operations, supporting large-scale applications and high-traffic websites .([Krutus][3])\n",
    "\n",
    "* **Scalability**: It can handle large databases and supports horizontal scaling through sharding and replication, accommodating growing data needs .([Krutus][3])\n",
    "\n",
    "* **Reliability and Security**: MySQL ensures data integrity through ACID compliance and offers robust security features, including user authentication and data encryption .([Krutus][3])\n",
    "\n",
    "* **Ease of Use**: With tools like MySQL Workbench and MySQL Shell, users can easily manage and administer databases .([Krutus][3])\n",
    "\n",
    "* **Open Source Community**: A vibrant community contributes to continuous improvement, providing support and resources for users .\n",
    "\n",
    "\n",
    "\n",
    "###  Popular Use Cases\n",
    "\n",
    "MySQL is employed across various domains due to its versatility and reliability:([GeeksforGeeks][4])\n",
    "\n",
    "* **Web Applications**: Integral to the LAMP stack (Linux, Apache, MySQL, PHP/Python/Perl), powering dynamic websites and applications .([Amazon Web Services, Inc.][2])\n",
    "\n",
    "* **E-commerce Platforms**: Manages product catalogs, customer data, and transactions for online stores .([GeeksforGeeks][4])\n",
    "\n",
    "* **Content Management Systems (CMS)**: Used by platforms like WordPress, Joomla, and Drupal to store and manage content .\n",
    "\n",
    "* **Social Media and Networking Sites**: Supports backend databases for platforms such as Facebook, Twitter, and YouTube .([Wikipedia][5])\n",
    "\n",
    "\n",
    "\n",
    "###  MySQL Forks\n",
    "\n",
    "Several forks of MySQL have been developed to cater to specific needs:\n",
    "\n",
    "* **MariaDB**: Created by the original developers of MySQL to ensure the software remains free and open-source under the GNU GPL .([Amazon Web Services, Inc.][2])\n",
    "\n",
    "* **Percona Server**: An enhanced version of MySQL with improved performance and additional features for enterprise environments.\n",
    "\n",
    "---\n",
    "\n"
   ]
  },
  {
   "cell_type": "markdown",
   "id": "d98b6ad7",
   "metadata": {},
   "source": [
    "<div style=\"background-color: lightblue; color: white; padding: 10px; text-align: center;\">\n",
    "    <h1>_________________________________END________________________________\n",
    "<!--- Devashish Kumar | Tech Skills Trainer | CodroidHub Private Limited | AI/ML Consultant --->\n",
    "    </h1> </div>"
   ]
  },
  {
   "cell_type": "markdown",
   "id": "99cbb123",
   "metadata": {},
   "source": [
    "<div style=\"background-color: #002147; color: #fff; padding: 30px; text-align: center;\">\n",
    "    <h1>THANK YOU!\n",
    "        <!--- Devashish Kumar | Tech Skills Trainer | CodroidHub Private Limited | AI/ML Consultant --->\n",
    "</h1> </div>"
   ]
  },
  {
   "cell_type": "markdown",
   "id": "4b4d0e9e",
   "metadata": {},
   "source": []
  }
 ],
 "metadata": {
  "language_info": {
   "name": "python"
  }
 },
 "nbformat": 4,
 "nbformat_minor": 5
}
